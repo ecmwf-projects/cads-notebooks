{
 "cells": [
  {
   "cell_type": "markdown",
   "metadata": {},
   "source": [
    "# Daily accumulation for non-UTC timezone for the ERA5-land accumulated variables"
   ]
  },
  {
   "cell_type": "markdown",
   "metadata": {},
   "source": [
    "The following workflow demonstrates how to calculate the daily sum of the accumulate variables in ERA5-land data for a non-UTC time-zone.\n",
    "\n",
    "The crux of this problem is that ERA5-land accumulates data from 00:00-UTC to 00:00-UTC. We must sample the data at the correct time steps, and then sum the relevant components to give an accumulation based on the time-zone of interest.\n",
    "\n",
    "In this exmaple, we compute the daily accumulation of precipitation for a 10x10 centres on Romania, where we want use a time zone of UTC+02:00.\n"
   ]
  },
  {
   "cell_type": "code",
   "execution_count": 1,
   "metadata": {},
   "outputs": [],
   "source": [
    "# Import the libraries used in this notebook\n",
    "import cdsapi\n",
    "import xarray as xr\n",
    "import pandas as pd\n",
    "\n",
    "# Set the time zone shift as a variable so it is easy to change\n",
    "TIME_ZONE_SHIFT_HOURS = +2\n",
    "\n",
    "# Calculate the time the TIME-ZONE midnight in UTC\n",
    "LOCAL_MIDNIGHT_IN_UTC = (0-TIME_ZONE_SHIFT_HOURS) % 24"
   ]
  },
  {
   "cell_type": "markdown",
   "metadata": {},
   "source": [
    "## Download some raw hourly data"
   ]
  },
  {
   "cell_type": "markdown",
   "metadata": {},
   "source": [
    "Here we choose the ERA5 land total_precipitation data for January 2024. As the data is partly accumulated in the archive, we just need to retreive the time-steps which effect our calculation, i.e. `00:00` and `00:00 + TIME_ZONE_SHIFT`.\n",
    "\n",
    "We have chosen a coarse grid to reduce the size of the download for this demonstration."
   ]
  },
  {
   "cell_type": "code",
   "execution_count": 3,
   "metadata": {},
   "outputs": [],
   "source": [
    "TIME_STEPS = ['00:00', f\"{LOCAL_MIDNIGHT_IN_UTC:02d}:00\"]\n",
    "client = cdsapi.Client() \n",
    "dataset = \"reanalysis-era5-land\"\n",
    "request = {\n",
    "    'product_type': ['reanalysis'],\n",
    "    'variable': ['total_precipitation'],\n",
    "    'date': '20240101/20240131',\n",
    "    'time': TIME_STEPS,\n",
    "    'area': [50, 20, 40, 30],\n",
    "    'grid': [1, 1],\n",
    "    'data_format': 'grib',\n",
    "}\n",
    "result_file = client.retrieve(dataset, request).download()\n"
   ]
  },
  {
   "cell_type": "markdown",
   "metadata": {},
   "source": [
    "## Open the result file with xarray"
   ]
  },
  {
   "cell_type": "markdown",
   "metadata": {},
   "source": [
    "Included here are the additional keyword arguments used in the backend by the CDS."
   ]
  },
  {
   "cell_type": "code",
   "execution_count": 11,
   "metadata": {},
   "outputs": [
    {
     "name": "stdout",
     "output_type": "stream",
     "text": [
      "<xarray.Dataset> Size: 31kB\n",
      "Dimensions:     (valid_time: 62, latitude: 11, longitude: 11)\n",
      "Coordinates:\n",
      "  * valid_time  (valid_time) datetime64[ns] 496B 2024-01-01 ... 2024-01-31T22...\n",
      "  * latitude    (latitude) float64 88B 50.0 49.0 48.0 47.0 ... 42.0 41.0 40.0\n",
      "  * longitude   (longitude) float64 88B 20.0 21.0 22.0 23.0 ... 28.0 29.0 30.0\n",
      "Data variables:\n",
      "    tp          (valid_time, latitude, longitude) float32 30kB ...\n",
      "Attributes:\n",
      "    GRIB_edition:            1\n",
      "    GRIB_centre:             ecmf\n",
      "    GRIB_centreDescription:  European Centre for Medium-Range Weather Forecasts\n",
      "    GRIB_subCentre:          0\n",
      "    Conventions:             CF-1.7\n",
      "    institution:             European Centre for Medium-Range Weather Forecasts\n",
      "    history:                 2024-09-06T16:26 GRIB to CDM+CF via cfgrib-0.9.1...\n"
     ]
    }
   ],
   "source": [
    "ds = xr.open_dataset(\n",
    "    result_file, time_dims=[\"valid_time\"],\n",
    "    coords_as_attributes=[\"surface\", \"number\"],\n",
    ")\n",
    "print(ds)"
   ]
  },
  {
   "cell_type": "markdown",
   "metadata": {},
   "source": [
    "## Compute the daily sum"
   ]
  },
  {
   "cell_type": "markdown",
   "metadata": {},
   "source": [
    "The daily accumulation in the TIME-ZONE is the accumulation on the day of interest from `00:00 UTC` until `LOCAL_MIDNIGHT_IN_UTC`, added to the accumulation on day-1 from `LOCAL_MIDNIGHT_IN_UTC` until `24:00 UTC` (= `00:00 UTC` on the day of interest)."
   ]
  },
  {
   "cell_type": "code",
   "execution_count": 12,
   "metadata": {},
   "outputs": [
    {
     "name": "stdout",
     "output_type": "stream",
     "text": [
      "<xarray.Dataset> Size: 15kB\n",
      "Dimensions:     (valid_time: 31, latitude: 11, longitude: 11)\n",
      "Coordinates:\n",
      "  * valid_time  (valid_time) datetime64[ns] 248B 2024-01-01 ... 2024-01-31\n",
      "  * latitude    (latitude) float64 88B 50.0 49.0 48.0 47.0 ... 42.0 41.0 40.0\n",
      "  * longitude   (longitude) float64 88B 20.0 21.0 22.0 23.0 ... 28.0 29.0 30.0\n",
      "Data variables:\n",
      "    tp          (valid_time, latitude, longitude) float32 15kB ...\n",
      "Attributes:\n",
      "    GRIB_edition:            1\n",
      "    GRIB_centre:             ecmf\n",
      "    GRIB_centreDescription:  European Centre for Medium-Range Weather Forecasts\n",
      "    GRIB_subCentre:          0\n",
      "    Conventions:             CF-1.7\n",
      "    institution:             European Centre for Medium-Range Weather Forecasts\n",
      "    history:                 2024-09-06T16:26 GRIB to CDM+CF via cfgrib-0.9.1...\n"
     ]
    }
   ],
   "source": [
    "# Group the data by hour\n",
    "ds_grouped_by_hour = ds.groupby(\"valid_time.hour\")\n",
    "\n",
    "# Then create new datasets for the UTC midnight and the local midnight\n",
    "i_UTC_minight, i_local_midnight = ds_grouped_by_hour.groups\n",
    "ds_UTC_midnight = ds.isel(valid_time=ds_grouped_by_hour.groups[i_UTC_minight])\n",
    "ds_local_midnight = ds.isel(valid_time=ds_grouped_by_hour.groups[i_local_midnight])\n",
    "\n",
    "print(ds_UTC_midnight)"
   ]
  },
  {
   "cell_type": "markdown",
   "metadata": {},
   "source": [
    "So that we can add and subtract the two datasets, we need to make sure that the coordinates are the same\n",
    "We can do this by setting the coordinates of the local midnight dataset to the coordinates of the UTC midnight dataset,\n",
    "but we must add one day as it must be joined to the day after the UTC midnight data:"
   ]
  },
  {
   "cell_type": "code",
   "execution_count": 13,
   "metadata": {},
   "outputs": [
    {
     "name": "stdout",
     "output_type": "stream",
     "text": [
      "<xarray.Dataset> Size: 15kB\n",
      "Dimensions:     (latitude: 11, longitude: 11, valid_time: 31)\n",
      "Coordinates:\n",
      "  * latitude    (latitude) float64 88B 50.0 49.0 48.0 47.0 ... 42.0 41.0 40.0\n",
      "  * longitude   (longitude) float64 88B 20.0 21.0 22.0 23.0 ... 28.0 29.0 30.0\n",
      "  * valid_time  (valid_time) datetime64[ns] 248B 2024-01-02 ... 2024-02-01\n",
      "Data variables:\n",
      "    tp          (valid_time, latitude, longitude) float32 15kB ...\n",
      "Attributes:\n",
      "    GRIB_edition:            1\n",
      "    GRIB_centre:             ecmf\n",
      "    GRIB_centreDescription:  European Centre for Medium-Range Weather Forecasts\n",
      "    GRIB_subCentre:          0\n",
      "    Conventions:             CF-1.7\n",
      "    institution:             European Centre for Medium-Range Weather Forecasts\n",
      "    history:                 2024-09-06T16:26 GRIB to CDM+CF via cfgrib-0.9.1...\n"
     ]
    }
   ],
   "source": [
    "ds_local_midnight = ds_local_midnight.assign_coords(\n",
    "    valid_time=ds_UTC_midnight.valid_time + pd.Timedelta(days=1)\n",
    ")\n",
    "print(ds_local_midnight)"
   ]
  },
  {
   "cell_type": "markdown",
   "metadata": {},
   "source": [
    "We can then subtract the UTC midnight data from the local midnight data, and then shift back one day to so that the time-stamp is aligned with the UTC data."
   ]
  },
  {
   "cell_type": "code",
   "execution_count": 14,
   "metadata": {},
   "outputs": [
    {
     "name": "stdout",
     "output_type": "stream",
     "text": [
      "<xarray.Dataset> Size: 15kB\n",
      "Dimensions:     (latitude: 11, longitude: 11, valid_time: 30)\n",
      "Coordinates:\n",
      "  * latitude    (latitude) float64 88B 50.0 49.0 48.0 47.0 ... 42.0 41.0 40.0\n",
      "  * longitude   (longitude) float64 88B 20.0 21.0 22.0 23.0 ... 28.0 29.0 30.0\n",
      "  * valid_time  (valid_time) datetime64[ns] 240B 2024-01-01 ... 2024-01-30\n",
      "Data variables:\n",
      "    tp          (valid_time, latitude, longitude) float32 15kB 2.027e-06 ... ...\n"
     ]
    }
   ],
   "source": [
    "# Subtract the UTC midnight data from the local midnight data\n",
    "ds_local_to_utc_midnight = ds_UTC_midnight - ds_local_midnight\n",
    "# Shift the time back one day\n",
    "ds_local_to_utc_midnight = ds_local_to_utc_midnight.assign_coords(\n",
    "    valid_time=ds_local_to_utc_midnight.valid_time - pd.Timedelta(days=1)\n",
    ")\n",
    "print(ds_local_to_utc_midnight)"
   ]
  },
  {
   "cell_type": "markdown",
   "metadata": {},
   "source": [
    "We can then sum the two datasets to get the total precipitation for the day, in the local time zone.\n",
    " Xarray will drop any time steps where we don't have data for both the UTC and local midnight"
   ]
  },
  {
   "cell_type": "code",
   "execution_count": 15,
   "metadata": {},
   "outputs": [
    {
     "name": "stdout",
     "output_type": "stream",
     "text": [
      "<xarray.Dataset> Size: 14kB\n",
      "Dimensions:     (latitude: 11, longitude: 11, valid_time: 29)\n",
      "Coordinates:\n",
      "  * latitude    (latitude) float64 88B 50.0 49.0 48.0 47.0 ... 42.0 41.0 40.0\n",
      "  * longitude   (longitude) float64 88B 20.0 21.0 22.0 23.0 ... 28.0 29.0 30.0\n",
      "  * valid_time  (valid_time) datetime64[ns] 232B 2024-01-02 ... 2024-01-30\n",
      "Data variables:\n",
      "    tp          (valid_time, latitude, longitude) float32 14kB 0.01223 ... 0....\n"
     ]
    }
   ],
   "source": [
    "ds_accum_local = ds_local_midnight + ds_local_to_utc_midnight\n",
    "print(ds_accum_local)"
   ]
  },
  {
   "cell_type": "markdown",
   "metadata": {},
   "source": [
    "One final step is to consider whether the accumulation is for the previous day or the current day.\n",
    "If the TIME_ZONE shift is negative, then the accumulation is for the previous day"
   ]
  },
  {
   "cell_type": "code",
   "execution_count": 16,
   "metadata": {},
   "outputs": [
    {
     "name": "stdout",
     "output_type": "stream",
     "text": [
      "<xarray.Dataset> Size: 14kB\n",
      "Dimensions:     (latitude: 11, longitude: 11, valid_time: 29)\n",
      "Coordinates:\n",
      "  * latitude    (latitude) float64 88B 50.0 49.0 48.0 47.0 ... 42.0 41.0 40.0\n",
      "  * longitude   (longitude) float64 88B 20.0 21.0 22.0 23.0 ... 28.0 29.0 30.0\n",
      "  * valid_time  (valid_time) datetime64[ns] 232B 2024-01-02 ... 2024-01-30\n",
      "Data variables:\n",
      "    tp          (valid_time, latitude, longitude) float32 14kB 0.01223 ... 0....\n"
     ]
    }
   ],
   "source": [
    "shift = int(TIME_ZONE_SHIFT_HOURS < 0)\n",
    "ds_accum_local = ds_accum_local.assign_coords(\n",
    "    valid_time=ds_accum_local.valid_time + pd.Timedelta(days=shift)\n",
    ")\n",
    "\n",
    "print(ds_accum_local)"
   ]
  }
 ],
 "metadata": {
  "kernelspec": {
   "display_name": "CDS",
   "language": "python",
   "name": "python3"
  },
  "language_info": {
   "codemirror_mode": {
    "name": "ipython",
    "version": 3
   },
   "file_extension": ".py",
   "mimetype": "text/x-python",
   "name": "python",
   "nbconvert_exporter": "python",
   "pygments_lexer": "ipython3",
   "version": "3.11.8"
  }
 },
 "nbformat": 4,
 "nbformat_minor": 2
}
