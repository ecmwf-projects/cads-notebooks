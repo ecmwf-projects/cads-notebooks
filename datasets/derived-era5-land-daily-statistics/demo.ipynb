{
 "cells": [
  {
   "cell_type": "markdown",
   "id": "adb1e255",
   "metadata": {},
   "source": [
    "### ERA5-Land hourly data from 1950 to present"
   ]
  },
  {
   "cell_type": "markdown",
   "id": "f5034ffc",
   "metadata": {},
   "source": [
    "This Jupyter notebook will demonstrate how to access and visualise data from the Copernicus Climate Data Store (CDS) dataset **ERA5-Land hourly data from 1950 to present**. It will also show how the dataset's overview image and thumbnail image were generated.\n",
    "\n",
    "For this demonstration, we will be using the Python package `earthkit` as a one-stop-shop for CDS data access, processing and visulisation. For more information on `earthkit`, including installation instructions, see its [GitHub Repository](https://github.com/ecmwf/earthkit)."
   ]
  },
  {
   "cell_type": "code",
   "execution_count": null,
   "id": "8da74b88",
   "metadata": {},
   "outputs": [],
   "source": [
    "import earthkit"
   ]
  },
  {
   "cell_type": "markdown",
   "id": "191b93af",
   "metadata": {},
   "source": [
    "#### Retrieving CDS data"
   ]
  },
  {
   "cell_type": "markdown",
   "id": "d0710c66",
   "metadata": {},
   "source": [
    "Data from the CDS can be accessed through earthkit via the `earthkit.data.from_source()` function. The first argument should be the string `'cds'`, followed by the dataset name (slug), and finally a dictionary containing the contents of your request."
   ]
  },
  {
   "cell_type": "code",
   "execution_count": null,
   "id": "4b17e8cf",
   "metadata": {},
   "outputs": [],
   "source": [
    "temperature = earthkit.data.from_source(\n",
    "    'cds',\n",
    "    'derived-era5-land-daily-statistics',\n",
    "    {\n",
    "        'variable': ['2m_temperature'],\n",
    "        'year': '2023',\n",
    "        'month': '01',\n",
    "        'day': ['01'],\n",
    "        'daily_statistic': 'daily_mean',\n",
    "        'time_zone': 'utc+00:00',\n",
    "        'frequency': '1_hourly',\n",
    "        'download_format': 'unarchived'\n",
    "    },\n",
    ")"
   ]
  },
  {
   "cell_type": "markdown",
   "id": "a2f3c3a8",
   "metadata": {},
   "source": [
    "#### Generating a simple image"
   ]
  },
  {
   "cell_type": "markdown",
   "id": "6f4b5071",
   "metadata": {},
   "source": [
    "This section will demonstrate how the overview image for this dataset was generated.\n",
    "\n",
    "To start with, we need to define some *styles* for plotting our variables. For 2m temperature, we want a shaded contour style using the *turbo* colour palette from [matplotlib](https://matplotlib.org/stable/gallery/color/colormap_reference.html). Styles can also have *units* associated with them, so that any data plotted using that style will be converted to use the style's units."
   ]
  },
  {
   "cell_type": "code",
   "execution_count": null,
   "id": "f8f0ed04",
   "metadata": {},
   "outputs": [],
   "source": [
    "temperature_style = earthkit.maps.styles.Contour(\n",
    "    colors=\"turbo\",\n",
    "    levels=range(-40, 41, 2),\n",
    "    extend=\"both\",\n",
    "    units=\"celsius\",\n",
    ")"
   ]
  },
  {
   "cell_type": "markdown",
   "id": "74d32721",
   "metadata": {},
   "source": [
    "Now we can produce our plot, using the styles we just defined. We are using *cartopy* to specify a *Nearside Perspective* projection for our plot."
   ]
  },
  {
   "cell_type": "code",
   "execution_count": null,
   "id": "04d1094e",
   "metadata": {},
   "outputs": [],
   "source": [
    "import cartopy.crs as ccrs\n",
    "import earthkit.maps\n",
    "\n",
    "earthkit.maps.schema.figsize = (4, 4)\n",
    "\n",
    "crs = ccrs.NearsidePerspective(central_latitude=50)\n",
    "chart = earthkit.plots.Map(crs=crs)\n",
    "\n",
    "chart.plot(temperature, style=temperature_style, transform_first=False)\n",
    "\n",
    "chart.coastlines(resolution=\"high\")\n",
    "chart.stock_img()\n",
    "\n",
    "chart.legend(location=\"bottom\")\n",
    "\n",
    "# For the title, we can take advantage of earthkit-maps metadata\n",
    "# detection, which allows us to use format keys like 'variable_name'\n",
    "# and 'time', which are then populated from the metadata of the data\n",
    "# that's been plotted.\n",
    "chart.title(\n",
    "    \"ERA5-Land Daily statistics {variable_name}\\n\"\n",
    "    \"{time:%-d %B %Y} at {time:%H:%M} UTC\",\n",
    "    fontsize=11,\n",
    ")\n",
    "\n",
    "chart.save(\"overview-detail.png\")"
   ]
  },
  {
   "cell_type": "code",
   "execution_count": null,
   "id": "194816e4",
   "metadata": {},
   "outputs": [],
   "source": [
    "earthkit.maps.schema.figsize = (2, 2)\n",
    "chart = earthkit.maps.Superplot(crs=crs)\n",
    "\n",
    "chart.plot(temperature, style=temperature_style, transform_first=False)\n",
    "\n",
    "chart.coastlines(resolution=\"high\")\n",
    "chart.stock_img()\n",
    "\n",
    "chart.save(\"overview.png\")"
   ]
  }
 ],
 "metadata": {
  "kernelspec": {
   "display_name": "EARTHKIT",
   "language": "python",
   "name": "python3"
  },
  "language_info": {
   "codemirror_mode": {
    "name": "ipython",
    "version": 3
   },
   "file_extension": ".py",
   "mimetype": "text/x-python",
   "name": "python",
   "nbconvert_exporter": "python",
   "pygments_lexer": "ipython3",
   "version": "3.11.9"
  }
 },
 "nbformat": 4,
 "nbformat_minor": 5
}
