{
 "cells": [
  {
   "cell_type": "markdown",
   "id": "adb1e255",
   "metadata": {},
   "source": [
    "### Essential climate variables for assessment of climate variability from 1979 to present"
   ]
  },
  {
   "cell_type": "markdown",
   "id": "f5034ffc",
   "metadata": {},
   "source": [
    "This Jupyter notebook will demonstrate how to access and visualise data from the Copernicus Climate Data Store (CDS) dataset **ERA5-Land hourly data from 1950 to present**. It will also show how the dataset's overview image and thumbnail image were generated.\n",
    "\n",
    "For this demonstration, we will be using the Python package `earthkit` as a one-stop-shop for CDS data access, processing and visulisation. For more information on `earthkit`, including installation instructions, see its [GitHub Repository](https://github.com/ecmwf/earthkit)."
   ]
  },
  {
   "cell_type": "code",
   "execution_count": 30,
   "id": "8da74b88",
   "metadata": {},
   "outputs": [],
   "source": [
    "import earthkit\n",
    "from matplotlib.gridspec import GridSpec"
   ]
  },
  {
   "cell_type": "markdown",
   "id": "191b93af",
   "metadata": {},
   "source": [
    "#### Retrieving CDS data"
   ]
  },
  {
   "cell_type": "markdown",
   "id": "d0710c66",
   "metadata": {},
   "source": [
    "Data from the CDS can be accessed through earthkit via the `earthkit.data.from_source()` function. The first argument should be the string `'cds'`, followed by the dataset name (slug), and finally a dictionary containing the contents of your request."
   ]
  },
  {
   "cell_type": "code",
   "execution_count": 2,
   "id": "4b17e8cf",
   "metadata": {},
   "outputs": [
    {
     "name": "stderr",
     "output_type": "stream",
     "text": [
      "2023-08-03 09:54:34,535 INFO Welcome to the CDS\n",
      "2023-08-03 09:54:34,535 INFO Sending request to https://cds.climate.copernicus.eu/api/v2/resources/ecv-for-climate-change\n",
      "2023-08-03 09:54:34,667 INFO Request is queued\n",
      "2023-08-03 09:54:35,721 INFO Request is running\n",
      "2023-08-03 09:55:07,191 INFO Request is completed\n",
      "2023-08-03 09:55:07,194 INFO Downloading https://download-0021.copernicus-climate.eu/cache-compute-0021/cache/data8/dataset-ecv-for-climate-change-00b14022-864a-4f50-ac6b-1bcb20421fc6.zip to /var/folders/vt/7j2c2tmx4m14gn_sg3zpf5l00000gn/T/earthkit-data-mavj/cds-retriever-19a9aa9a1a01ec9e181d919fa20bd704405aa420e78696349fcd09e4839674bc.cache.tmp (2.4M)\n",
      "2023-08-03 09:55:07,721 INFO Download rate 4.6M/s                                                                                                                 \n"
     ]
    },
    {
     "data": {
      "application/vnd.jupyter.widget-view+json": {
       "model_id": "",
       "version_major": 2,
       "version_minor": 0
      },
      "text/plain": [
       "  0%|          | 0/1 [00:00<?, ?it/s]"
      ]
     },
     "metadata": {},
     "output_type": "display_data"
    }
   ],
   "source": [
    "t_anom = earthkit.data.from_source(\n",
    "    'cds',\n",
    "    'ecv-for-climate-change',\n",
    "    {\n",
    "        'variable': 'surface_air_temperature',\n",
    "        'product_type': 'anomaly',\n",
    "        'climate_reference_period': '1991_2020',\n",
    "        'time_aggregation': '1_month_mean',\n",
    "        'year': '2023',\n",
    "        'month': '06',\n",
    "        'origin': 'era5',\n",
    "    },\n",
    ")"
   ]
  },
  {
   "cell_type": "markdown",
   "id": "a2f3c3a8",
   "metadata": {},
   "source": [
    "#### Generating a simple image"
   ]
  },
  {
   "cell_type": "markdown",
   "id": "6f4b5071",
   "metadata": {},
   "source": [
    "This section will demonstrate how the overview image for this dataset was generated.\n",
    "\n",
    "To start with, we need to define some *styles* for plotting our variables. For 2m temperature, we want a shaded contour style using the *turbo* colour palette from [matplotlib](https://matplotlib.org/stable/gallery/color/colormap_reference.html). Styles can also have *units* associated with them, so that any data plotted using that style will be converted to use the style's units."
   ]
  },
  {
   "cell_type": "code",
   "execution_count": 27,
   "id": "f8f0ed04",
   "metadata": {},
   "outputs": [],
   "source": [
    "import numpy as np\n",
    "\n",
    "style = earthkit.maps.styles.Contour(\n",
    "    colors=\"seismic\",\n",
    "    levels=np.arange(-11, 11.1, 0.1),\n",
    ")"
   ]
  },
  {
   "cell_type": "markdown",
   "id": "74d32721",
   "metadata": {},
   "source": [
    "Now we can produce our plot, using the styles we just defined. We are using *cartopy* to specify a *Nearside Perspective* projection for our plot."
   ]
  },
  {
   "cell_type": "code",
   "execution_count": 31,
   "id": "04d1094e",
   "metadata": {},
   "outputs": [
    {
     "ename": "AttributeError",
     "evalue": "type object 'Superplot' has no attribute 'from_gridspec'",
     "output_type": "error",
     "traceback": [
      "\u001b[0;31m---------------------------------------------------------------------------\u001b[0m",
      "\u001b[0;31mAttributeError\u001b[0m                            Traceback (most recent call last)",
      "Cell \u001b[0;32mIn [31], line 5\u001b[0m\n\u001b[1;32m      1\u001b[0m \u001b[38;5;28;01mimport\u001b[39;00m \u001b[38;5;21;01mcartopy\u001b[39;00m\u001b[38;5;21;01m.\u001b[39;00m\u001b[38;5;21;01mcrs\u001b[39;00m \u001b[38;5;28;01mas\u001b[39;00m \u001b[38;5;21;01mccrs\u001b[39;00m\n\u001b[1;32m      3\u001b[0m gs \u001b[38;5;241m=\u001b[39m GridSpec(\u001b[38;5;241m1\u001b[39m, \u001b[38;5;241m2\u001b[39m, width_ratios\u001b[38;5;241m=\u001b[39m[\u001b[38;5;241m2\u001b[39m, \u001b[38;5;241m1\u001b[39m])\n\u001b[0;32m----> 5\u001b[0m chart \u001b[38;5;241m=\u001b[39m \u001b[43mearthkit\u001b[49m\u001b[38;5;241;43m.\u001b[39;49m\u001b[43mmaps\u001b[49m\u001b[38;5;241;43m.\u001b[39;49m\u001b[43mSuperplot\u001b[49m\u001b[38;5;241;43m.\u001b[39;49m\u001b[43mfrom_gridspec\u001b[49m(gs, rows\u001b[38;5;241m=\u001b[39m\u001b[38;5;241m1\u001b[39m, cols\u001b[38;5;241m=\u001b[39m\u001b[38;5;241m2\u001b[39m)\n\u001b[1;32m      7\u001b[0m robinson \u001b[38;5;241m=\u001b[39m chart\u001b[38;5;241m.\u001b[39madd_subplot(crs\u001b[38;5;241m=\u001b[39mccrs\u001b[38;5;241m.\u001b[39mRobinson())\n\u001b[1;32m      8\u001b[0m robinson\u001b[38;5;241m.\u001b[39mplot(t_anom, style\u001b[38;5;241m=\u001b[39mstyle)\n",
      "\u001b[0;31mAttributeError\u001b[0m: type object 'Superplot' has no attribute 'from_gridspec'"
     ]
    }
   ],
   "source": [
    "import cartopy.crs as ccrs\n",
    "\n",
    "gs = GridSpec(1, 2, width_ratios=[2, 1])\n",
    "\n",
    "chart = earthkit.maps.Superplot.from_gridspec(gs, rows=1, cols=2)\n",
    "\n",
    "robinson = chart.add_subplot(crs=ccrs.Robinson())\n",
    "robinson.plot(t_anom, style=style)\n",
    "\n",
    "europe = chart.add_subplot(domain=\"Europe\")\n",
    "europe.plot(t_anom, style=style)\n",
    "\n",
    "chart.coastlines(resolution=\"high\")\n",
    "\n",
    "chart.legend(location=\"right\", label=\"°C\", shrink=0.5, ticks=range(-10, 11, 2))\n",
    "\n",
    "chart.title(\"Surface air temperature anomaly for {time:%B %Y}\")\n",
    "\n",
    "chart.show()"
   ]
  },
  {
   "cell_type": "code",
   "execution_count": null,
   "id": "8c48464d",
   "metadata": {},
   "outputs": [],
   "source": []
  }
 ],
 "metadata": {
  "kernelspec": {
   "display_name": "DEVELOP",
   "language": "python",
   "name": "develop"
  },
  "language_info": {
   "codemirror_mode": {
    "name": "ipython",
    "version": 3
   },
   "file_extension": ".py",
   "mimetype": "text/x-python",
   "name": "python",
   "nbconvert_exporter": "python",
   "pygments_lexer": "ipython3",
   "version": "3.10.6"
  }
 },
 "nbformat": 4,
 "nbformat_minor": 5
}
